{
  "nbformat": 4,
  "nbformat_minor": 0,
  "metadata": {
    "colab": {
      "name": "Data_Analytics.ipynb",
      "provenance": [],
      "collapsed_sections": []
    },
    "kernelspec": {
      "name": "python3",
      "display_name": "Python 3"
    },
    "language_info": {
      "name": "python"
    },
    "widgets": {
      "application/vnd.jupyter.widget-state+json": {
        "17178f4053c744edb050103abc3ad206": {
          "model_module": "@jupyter-widgets/controls",
          "model_name": "HBoxModel",
          "model_module_version": "1.5.0",
          "state": {
            "_view_name": "HBoxView",
            "_dom_classes": [],
            "_model_name": "HBoxModel",
            "_view_module": "@jupyter-widgets/controls",
            "_model_module_version": "1.5.0",
            "_view_count": null,
            "_view_module_version": "1.5.0",
            "box_style": "",
            "layout": "IPY_MODEL_97b7fa87019d41f98b6fccda351e8f16",
            "_model_module": "@jupyter-widgets/controls",
            "children": [
              "IPY_MODEL_c9bb961aa38f4089b9e5f2cbccf423f1",
              "IPY_MODEL_a3126661aed74365902c8aab487202c1",
              "IPY_MODEL_2e9acaf600cf4b86a08699fa40f2bb24"
            ]
          }
        },
        "97b7fa87019d41f98b6fccda351e8f16": {
          "model_module": "@jupyter-widgets/base",
          "model_name": "LayoutModel",
          "model_module_version": "1.2.0",
          "state": {
            "_view_name": "LayoutView",
            "grid_template_rows": null,
            "right": null,
            "justify_content": null,
            "_view_module": "@jupyter-widgets/base",
            "overflow": null,
            "_model_module_version": "1.2.0",
            "_view_count": null,
            "flex_flow": null,
            "width": null,
            "min_width": null,
            "border": null,
            "align_items": null,
            "bottom": null,
            "_model_module": "@jupyter-widgets/base",
            "top": null,
            "grid_column": null,
            "overflow_y": null,
            "overflow_x": null,
            "grid_auto_flow": null,
            "grid_area": null,
            "grid_template_columns": null,
            "flex": null,
            "_model_name": "LayoutModel",
            "justify_items": null,
            "grid_row": null,
            "max_height": null,
            "align_content": null,
            "visibility": null,
            "align_self": null,
            "height": null,
            "min_height": null,
            "padding": null,
            "grid_auto_rows": null,
            "grid_gap": null,
            "max_width": null,
            "order": null,
            "_view_module_version": "1.2.0",
            "grid_template_areas": null,
            "object_position": null,
            "object_fit": null,
            "grid_auto_columns": null,
            "margin": null,
            "display": null,
            "left": null
          }
        },
        "c9bb961aa38f4089b9e5f2cbccf423f1": {
          "model_module": "@jupyter-widgets/controls",
          "model_name": "HTMLModel",
          "model_module_version": "1.5.0",
          "state": {
            "_view_name": "HTMLView",
            "style": "IPY_MODEL_9928346cf8a843edb182879ed2743690",
            "_dom_classes": [],
            "description": "",
            "_model_name": "HTMLModel",
            "placeholder": "​",
            "_view_module": "@jupyter-widgets/controls",
            "_model_module_version": "1.5.0",
            "value": "100%",
            "_view_count": null,
            "_view_module_version": "1.5.0",
            "description_tooltip": null,
            "_model_module": "@jupyter-widgets/controls",
            "layout": "IPY_MODEL_af809ada58aa4606b9578e47de92ca9e"
          }
        },
        "a3126661aed74365902c8aab487202c1": {
          "model_module": "@jupyter-widgets/controls",
          "model_name": "FloatProgressModel",
          "model_module_version": "1.5.0",
          "state": {
            "_view_name": "ProgressView",
            "style": "IPY_MODEL_1b6d962742104a368f5cfe47cd1c6b95",
            "_dom_classes": [],
            "description": "",
            "_model_name": "FloatProgressModel",
            "bar_style": "success",
            "max": 822,
            "_view_module": "@jupyter-widgets/controls",
            "_model_module_version": "1.5.0",
            "value": 822,
            "_view_count": null,
            "_view_module_version": "1.5.0",
            "orientation": "horizontal",
            "min": 0,
            "description_tooltip": null,
            "_model_module": "@jupyter-widgets/controls",
            "layout": "IPY_MODEL_2f59ddd318a247b99e4e7db39640b2d7"
          }
        },
        "2e9acaf600cf4b86a08699fa40f2bb24": {
          "model_module": "@jupyter-widgets/controls",
          "model_name": "HTMLModel",
          "model_module_version": "1.5.0",
          "state": {
            "_view_name": "HTMLView",
            "style": "IPY_MODEL_6c899175d8524286ad637e4b8af3109c",
            "_dom_classes": [],
            "description": "",
            "_model_name": "HTMLModel",
            "placeholder": "​",
            "_view_module": "@jupyter-widgets/controls",
            "_model_module_version": "1.5.0",
            "value": " 822/822 [00:00&lt;00:00, 18263.54it/s]",
            "_view_count": null,
            "_view_module_version": "1.5.0",
            "description_tooltip": null,
            "_model_module": "@jupyter-widgets/controls",
            "layout": "IPY_MODEL_d9704b0abfaa44eaa66136147d0aad80"
          }
        },
        "9928346cf8a843edb182879ed2743690": {
          "model_module": "@jupyter-widgets/controls",
          "model_name": "DescriptionStyleModel",
          "model_module_version": "1.5.0",
          "state": {
            "_view_name": "StyleView",
            "_model_name": "DescriptionStyleModel",
            "description_width": "",
            "_view_module": "@jupyter-widgets/base",
            "_model_module_version": "1.5.0",
            "_view_count": null,
            "_view_module_version": "1.2.0",
            "_model_module": "@jupyter-widgets/controls"
          }
        },
        "af809ada58aa4606b9578e47de92ca9e": {
          "model_module": "@jupyter-widgets/base",
          "model_name": "LayoutModel",
          "model_module_version": "1.2.0",
          "state": {
            "_view_name": "LayoutView",
            "grid_template_rows": null,
            "right": null,
            "justify_content": null,
            "_view_module": "@jupyter-widgets/base",
            "overflow": null,
            "_model_module_version": "1.2.0",
            "_view_count": null,
            "flex_flow": null,
            "width": null,
            "min_width": null,
            "border": null,
            "align_items": null,
            "bottom": null,
            "_model_module": "@jupyter-widgets/base",
            "top": null,
            "grid_column": null,
            "overflow_y": null,
            "overflow_x": null,
            "grid_auto_flow": null,
            "grid_area": null,
            "grid_template_columns": null,
            "flex": null,
            "_model_name": "LayoutModel",
            "justify_items": null,
            "grid_row": null,
            "max_height": null,
            "align_content": null,
            "visibility": null,
            "align_self": null,
            "height": null,
            "min_height": null,
            "padding": null,
            "grid_auto_rows": null,
            "grid_gap": null,
            "max_width": null,
            "order": null,
            "_view_module_version": "1.2.0",
            "grid_template_areas": null,
            "object_position": null,
            "object_fit": null,
            "grid_auto_columns": null,
            "margin": null,
            "display": null,
            "left": null
          }
        },
        "1b6d962742104a368f5cfe47cd1c6b95": {
          "model_module": "@jupyter-widgets/controls",
          "model_name": "ProgressStyleModel",
          "model_module_version": "1.5.0",
          "state": {
            "_view_name": "StyleView",
            "_model_name": "ProgressStyleModel",
            "description_width": "",
            "_view_module": "@jupyter-widgets/base",
            "_model_module_version": "1.5.0",
            "_view_count": null,
            "_view_module_version": "1.2.0",
            "bar_color": null,
            "_model_module": "@jupyter-widgets/controls"
          }
        },
        "2f59ddd318a247b99e4e7db39640b2d7": {
          "model_module": "@jupyter-widgets/base",
          "model_name": "LayoutModel",
          "model_module_version": "1.2.0",
          "state": {
            "_view_name": "LayoutView",
            "grid_template_rows": null,
            "right": null,
            "justify_content": null,
            "_view_module": "@jupyter-widgets/base",
            "overflow": null,
            "_model_module_version": "1.2.0",
            "_view_count": null,
            "flex_flow": null,
            "width": null,
            "min_width": null,
            "border": null,
            "align_items": null,
            "bottom": null,
            "_model_module": "@jupyter-widgets/base",
            "top": null,
            "grid_column": null,
            "overflow_y": null,
            "overflow_x": null,
            "grid_auto_flow": null,
            "grid_area": null,
            "grid_template_columns": null,
            "flex": null,
            "_model_name": "LayoutModel",
            "justify_items": null,
            "grid_row": null,
            "max_height": null,
            "align_content": null,
            "visibility": null,
            "align_self": null,
            "height": null,
            "min_height": null,
            "padding": null,
            "grid_auto_rows": null,
            "grid_gap": null,
            "max_width": null,
            "order": null,
            "_view_module_version": "1.2.0",
            "grid_template_areas": null,
            "object_position": null,
            "object_fit": null,
            "grid_auto_columns": null,
            "margin": null,
            "display": null,
            "left": null
          }
        },
        "6c899175d8524286ad637e4b8af3109c": {
          "model_module": "@jupyter-widgets/controls",
          "model_name": "DescriptionStyleModel",
          "model_module_version": "1.5.0",
          "state": {
            "_view_name": "StyleView",
            "_model_name": "DescriptionStyleModel",
            "description_width": "",
            "_view_module": "@jupyter-widgets/base",
            "_model_module_version": "1.5.0",
            "_view_count": null,
            "_view_module_version": "1.2.0",
            "_model_module": "@jupyter-widgets/controls"
          }
        },
        "d9704b0abfaa44eaa66136147d0aad80": {
          "model_module": "@jupyter-widgets/base",
          "model_name": "LayoutModel",
          "model_module_version": "1.2.0",
          "state": {
            "_view_name": "LayoutView",
            "grid_template_rows": null,
            "right": null,
            "justify_content": null,
            "_view_module": "@jupyter-widgets/base",
            "overflow": null,
            "_model_module_version": "1.2.0",
            "_view_count": null,
            "flex_flow": null,
            "width": null,
            "min_width": null,
            "border": null,
            "align_items": null,
            "bottom": null,
            "_model_module": "@jupyter-widgets/base",
            "top": null,
            "grid_column": null,
            "overflow_y": null,
            "overflow_x": null,
            "grid_auto_flow": null,
            "grid_area": null,
            "grid_template_columns": null,
            "flex": null,
            "_model_name": "LayoutModel",
            "justify_items": null,
            "grid_row": null,
            "max_height": null,
            "align_content": null,
            "visibility": null,
            "align_self": null,
            "height": null,
            "min_height": null,
            "padding": null,
            "grid_auto_rows": null,
            "grid_gap": null,
            "max_width": null,
            "order": null,
            "_view_module_version": "1.2.0",
            "grid_template_areas": null,
            "object_position": null,
            "object_fit": null,
            "grid_auto_columns": null,
            "margin": null,
            "display": null,
            "left": null
          }
        },
        "302a0fc25108427b968c5b3e3bbd2693": {
          "model_module": "@jupyter-widgets/controls",
          "model_name": "HBoxModel",
          "model_module_version": "1.5.0",
          "state": {
            "_view_name": "HBoxView",
            "_dom_classes": [],
            "_model_name": "HBoxModel",
            "_view_module": "@jupyter-widgets/controls",
            "_model_module_version": "1.5.0",
            "_view_count": null,
            "_view_module_version": "1.5.0",
            "box_style": "",
            "layout": "IPY_MODEL_92fc67cffa1f47298ba6f6e6df2c2714",
            "_model_module": "@jupyter-widgets/controls",
            "children": [
              "IPY_MODEL_6ebc4aa1977c40ddbcf85019ef356b19",
              "IPY_MODEL_2c31d29bb6e5430ca52debafa8aeb485",
              "IPY_MODEL_9a0283e77fb14cadb7ac1e41fb659839"
            ]
          }
        },
        "92fc67cffa1f47298ba6f6e6df2c2714": {
          "model_module": "@jupyter-widgets/base",
          "model_name": "LayoutModel",
          "model_module_version": "1.2.0",
          "state": {
            "_view_name": "LayoutView",
            "grid_template_rows": null,
            "right": null,
            "justify_content": null,
            "_view_module": "@jupyter-widgets/base",
            "overflow": null,
            "_model_module_version": "1.2.0",
            "_view_count": null,
            "flex_flow": null,
            "width": null,
            "min_width": null,
            "border": null,
            "align_items": null,
            "bottom": null,
            "_model_module": "@jupyter-widgets/base",
            "top": null,
            "grid_column": null,
            "overflow_y": null,
            "overflow_x": null,
            "grid_auto_flow": null,
            "grid_area": null,
            "grid_template_columns": null,
            "flex": null,
            "_model_name": "LayoutModel",
            "justify_items": null,
            "grid_row": null,
            "max_height": null,
            "align_content": null,
            "visibility": null,
            "align_self": null,
            "height": null,
            "min_height": null,
            "padding": null,
            "grid_auto_rows": null,
            "grid_gap": null,
            "max_width": null,
            "order": null,
            "_view_module_version": "1.2.0",
            "grid_template_areas": null,
            "object_position": null,
            "object_fit": null,
            "grid_auto_columns": null,
            "margin": null,
            "display": null,
            "left": null
          }
        },
        "6ebc4aa1977c40ddbcf85019ef356b19": {
          "model_module": "@jupyter-widgets/controls",
          "model_name": "HTMLModel",
          "model_module_version": "1.5.0",
          "state": {
            "_view_name": "HTMLView",
            "style": "IPY_MODEL_9c68135b13494be282b1511755c6ca07",
            "_dom_classes": [],
            "description": "",
            "_model_name": "HTMLModel",
            "placeholder": "​",
            "_view_module": "@jupyter-widgets/controls",
            "_model_module_version": "1.5.0",
            "value": "100%",
            "_view_count": null,
            "_view_module_version": "1.5.0",
            "description_tooltip": null,
            "_model_module": "@jupyter-widgets/controls",
            "layout": "IPY_MODEL_ca39c0a96f3049ef89291260ce481c9d"
          }
        },
        "2c31d29bb6e5430ca52debafa8aeb485": {
          "model_module": "@jupyter-widgets/controls",
          "model_name": "FloatProgressModel",
          "model_module_version": "1.5.0",
          "state": {
            "_view_name": "ProgressView",
            "style": "IPY_MODEL_26989e4e566b4e908b739b781d9e4d1e",
            "_dom_classes": [],
            "description": "",
            "_model_name": "FloatProgressModel",
            "bar_style": "success",
            "max": 822,
            "_view_module": "@jupyter-widgets/controls",
            "_model_module_version": "1.5.0",
            "value": 822,
            "_view_count": null,
            "_view_module_version": "1.5.0",
            "orientation": "horizontal",
            "min": 0,
            "description_tooltip": null,
            "_model_module": "@jupyter-widgets/controls",
            "layout": "IPY_MODEL_0b7ebd559b784068b97067c7c9fb2ccd"
          }
        },
        "9a0283e77fb14cadb7ac1e41fb659839": {
          "model_module": "@jupyter-widgets/controls",
          "model_name": "HTMLModel",
          "model_module_version": "1.5.0",
          "state": {
            "_view_name": "HTMLView",
            "style": "IPY_MODEL_26af97806a4e4dddbc3ef8c2d0359eab",
            "_dom_classes": [],
            "description": "",
            "_model_name": "HTMLModel",
            "placeholder": "​",
            "_view_module": "@jupyter-widgets/controls",
            "_model_module_version": "1.5.0",
            "value": " 822/822 [00:00&lt;00:00, 13010.01it/s]",
            "_view_count": null,
            "_view_module_version": "1.5.0",
            "description_tooltip": null,
            "_model_module": "@jupyter-widgets/controls",
            "layout": "IPY_MODEL_b896c9c71f0a4d4ab2fed70153f6ab19"
          }
        },
        "9c68135b13494be282b1511755c6ca07": {
          "model_module": "@jupyter-widgets/controls",
          "model_name": "DescriptionStyleModel",
          "model_module_version": "1.5.0",
          "state": {
            "_view_name": "StyleView",
            "_model_name": "DescriptionStyleModel",
            "description_width": "",
            "_view_module": "@jupyter-widgets/base",
            "_model_module_version": "1.5.0",
            "_view_count": null,
            "_view_module_version": "1.2.0",
            "_model_module": "@jupyter-widgets/controls"
          }
        },
        "ca39c0a96f3049ef89291260ce481c9d": {
          "model_module": "@jupyter-widgets/base",
          "model_name": "LayoutModel",
          "model_module_version": "1.2.0",
          "state": {
            "_view_name": "LayoutView",
            "grid_template_rows": null,
            "right": null,
            "justify_content": null,
            "_view_module": "@jupyter-widgets/base",
            "overflow": null,
            "_model_module_version": "1.2.0",
            "_view_count": null,
            "flex_flow": null,
            "width": null,
            "min_width": null,
            "border": null,
            "align_items": null,
            "bottom": null,
            "_model_module": "@jupyter-widgets/base",
            "top": null,
            "grid_column": null,
            "overflow_y": null,
            "overflow_x": null,
            "grid_auto_flow": null,
            "grid_area": null,
            "grid_template_columns": null,
            "flex": null,
            "_model_name": "LayoutModel",
            "justify_items": null,
            "grid_row": null,
            "max_height": null,
            "align_content": null,
            "visibility": null,
            "align_self": null,
            "height": null,
            "min_height": null,
            "padding": null,
            "grid_auto_rows": null,
            "grid_gap": null,
            "max_width": null,
            "order": null,
            "_view_module_version": "1.2.0",
            "grid_template_areas": null,
            "object_position": null,
            "object_fit": null,
            "grid_auto_columns": null,
            "margin": null,
            "display": null,
            "left": null
          }
        },
        "26989e4e566b4e908b739b781d9e4d1e": {
          "model_module": "@jupyter-widgets/controls",
          "model_name": "ProgressStyleModel",
          "model_module_version": "1.5.0",
          "state": {
            "_view_name": "StyleView",
            "_model_name": "ProgressStyleModel",
            "description_width": "",
            "_view_module": "@jupyter-widgets/base",
            "_model_module_version": "1.5.0",
            "_view_count": null,
            "_view_module_version": "1.2.0",
            "bar_color": null,
            "_model_module": "@jupyter-widgets/controls"
          }
        },
        "0b7ebd559b784068b97067c7c9fb2ccd": {
          "model_module": "@jupyter-widgets/base",
          "model_name": "LayoutModel",
          "model_module_version": "1.2.0",
          "state": {
            "_view_name": "LayoutView",
            "grid_template_rows": null,
            "right": null,
            "justify_content": null,
            "_view_module": "@jupyter-widgets/base",
            "overflow": null,
            "_model_module_version": "1.2.0",
            "_view_count": null,
            "flex_flow": null,
            "width": null,
            "min_width": null,
            "border": null,
            "align_items": null,
            "bottom": null,
            "_model_module": "@jupyter-widgets/base",
            "top": null,
            "grid_column": null,
            "overflow_y": null,
            "overflow_x": null,
            "grid_auto_flow": null,
            "grid_area": null,
            "grid_template_columns": null,
            "flex": null,
            "_model_name": "LayoutModel",
            "justify_items": null,
            "grid_row": null,
            "max_height": null,
            "align_content": null,
            "visibility": null,
            "align_self": null,
            "height": null,
            "min_height": null,
            "padding": null,
            "grid_auto_rows": null,
            "grid_gap": null,
            "max_width": null,
            "order": null,
            "_view_module_version": "1.2.0",
            "grid_template_areas": null,
            "object_position": null,
            "object_fit": null,
            "grid_auto_columns": null,
            "margin": null,
            "display": null,
            "left": null
          }
        },
        "26af97806a4e4dddbc3ef8c2d0359eab": {
          "model_module": "@jupyter-widgets/controls",
          "model_name": "DescriptionStyleModel",
          "model_module_version": "1.5.0",
          "state": {
            "_view_name": "StyleView",
            "_model_name": "DescriptionStyleModel",
            "description_width": "",
            "_view_module": "@jupyter-widgets/base",
            "_model_module_version": "1.5.0",
            "_view_count": null,
            "_view_module_version": "1.2.0",
            "_model_module": "@jupyter-widgets/controls"
          }
        },
        "b896c9c71f0a4d4ab2fed70153f6ab19": {
          "model_module": "@jupyter-widgets/base",
          "model_name": "LayoutModel",
          "model_module_version": "1.2.0",
          "state": {
            "_view_name": "LayoutView",
            "grid_template_rows": null,
            "right": null,
            "justify_content": null,
            "_view_module": "@jupyter-widgets/base",
            "overflow": null,
            "_model_module_version": "1.2.0",
            "_view_count": null,
            "flex_flow": null,
            "width": null,
            "min_width": null,
            "border": null,
            "align_items": null,
            "bottom": null,
            "_model_module": "@jupyter-widgets/base",
            "top": null,
            "grid_column": null,
            "overflow_y": null,
            "overflow_x": null,
            "grid_auto_flow": null,
            "grid_area": null,
            "grid_template_columns": null,
            "flex": null,
            "_model_name": "LayoutModel",
            "justify_items": null,
            "grid_row": null,
            "max_height": null,
            "align_content": null,
            "visibility": null,
            "align_self": null,
            "height": null,
            "min_height": null,
            "padding": null,
            "grid_auto_rows": null,
            "grid_gap": null,
            "max_width": null,
            "order": null,
            "_view_module_version": "1.2.0",
            "grid_template_areas": null,
            "object_position": null,
            "object_fit": null,
            "grid_auto_columns": null,
            "margin": null,
            "display": null,
            "left": null
          }
        },
        "c7dba664b0b5423ca2598e608eca693f": {
          "model_module": "@jupyter-widgets/controls",
          "model_name": "HBoxModel",
          "model_module_version": "1.5.0",
          "state": {
            "_view_name": "HBoxView",
            "_dom_classes": [],
            "_model_name": "HBoxModel",
            "_view_module": "@jupyter-widgets/controls",
            "_model_module_version": "1.5.0",
            "_view_count": null,
            "_view_module_version": "1.5.0",
            "box_style": "",
            "layout": "IPY_MODEL_a679db32808a42a1b69b99557eb02269",
            "_model_module": "@jupyter-widgets/controls",
            "children": [
              "IPY_MODEL_b3a799dd37d640b5b20e30b0b78ed1c6",
              "IPY_MODEL_cd002a025d354baf82b22d81394f15d3",
              "IPY_MODEL_efc5baf1ee4c4339bf416aa6458e89e2"
            ]
          }
        },
        "a679db32808a42a1b69b99557eb02269": {
          "model_module": "@jupyter-widgets/base",
          "model_name": "LayoutModel",
          "model_module_version": "1.2.0",
          "state": {
            "_view_name": "LayoutView",
            "grid_template_rows": null,
            "right": null,
            "justify_content": null,
            "_view_module": "@jupyter-widgets/base",
            "overflow": null,
            "_model_module_version": "1.2.0",
            "_view_count": null,
            "flex_flow": null,
            "width": null,
            "min_width": null,
            "border": null,
            "align_items": null,
            "bottom": null,
            "_model_module": "@jupyter-widgets/base",
            "top": null,
            "grid_column": null,
            "overflow_y": null,
            "overflow_x": null,
            "grid_auto_flow": null,
            "grid_area": null,
            "grid_template_columns": null,
            "flex": null,
            "_model_name": "LayoutModel",
            "justify_items": null,
            "grid_row": null,
            "max_height": null,
            "align_content": null,
            "visibility": null,
            "align_self": null,
            "height": null,
            "min_height": null,
            "padding": null,
            "grid_auto_rows": null,
            "grid_gap": null,
            "max_width": null,
            "order": null,
            "_view_module_version": "1.2.0",
            "grid_template_areas": null,
            "object_position": null,
            "object_fit": null,
            "grid_auto_columns": null,
            "margin": null,
            "display": null,
            "left": null
          }
        },
        "b3a799dd37d640b5b20e30b0b78ed1c6": {
          "model_module": "@jupyter-widgets/controls",
          "model_name": "HTMLModel",
          "model_module_version": "1.5.0",
          "state": {
            "_view_name": "HTMLView",
            "style": "IPY_MODEL_fef902e7f47148409177b696d72f73bf",
            "_dom_classes": [],
            "description": "",
            "_model_name": "HTMLModel",
            "placeholder": "​",
            "_view_module": "@jupyter-widgets/controls",
            "_model_module_version": "1.5.0",
            "value": "100%",
            "_view_count": null,
            "_view_module_version": "1.5.0",
            "description_tooltip": null,
            "_model_module": "@jupyter-widgets/controls",
            "layout": "IPY_MODEL_bf1efa9541134f12a4f77a5054fd14f1"
          }
        },
        "cd002a025d354baf82b22d81394f15d3": {
          "model_module": "@jupyter-widgets/controls",
          "model_name": "FloatProgressModel",
          "model_module_version": "1.5.0",
          "state": {
            "_view_name": "ProgressView",
            "style": "IPY_MODEL_d4170d99b8c344ff876989400a082d15",
            "_dom_classes": [],
            "description": "",
            "_model_name": "FloatProgressModel",
            "bar_style": "success",
            "max": 982,
            "_view_module": "@jupyter-widgets/controls",
            "_model_module_version": "1.5.0",
            "value": 982,
            "_view_count": null,
            "_view_module_version": "1.5.0",
            "orientation": "horizontal",
            "min": 0,
            "description_tooltip": null,
            "_model_module": "@jupyter-widgets/controls",
            "layout": "IPY_MODEL_622dad4d4a874329b8b6e6ba8d78c93f"
          }
        },
        "efc5baf1ee4c4339bf416aa6458e89e2": {
          "model_module": "@jupyter-widgets/controls",
          "model_name": "HTMLModel",
          "model_module_version": "1.5.0",
          "state": {
            "_view_name": "HTMLView",
            "style": "IPY_MODEL_a071bd97045548349ef2a1f7f1c24687",
            "_dom_classes": [],
            "description": "",
            "_model_name": "HTMLModel",
            "placeholder": "​",
            "_view_module": "@jupyter-widgets/controls",
            "_model_module_version": "1.5.0",
            "value": " 982/982 [00:00&lt;00:00, 5055.18it/s]",
            "_view_count": null,
            "_view_module_version": "1.5.0",
            "description_tooltip": null,
            "_model_module": "@jupyter-widgets/controls",
            "layout": "IPY_MODEL_3bce4b38608740f49124603e1414abc0"
          }
        },
        "fef902e7f47148409177b696d72f73bf": {
          "model_module": "@jupyter-widgets/controls",
          "model_name": "DescriptionStyleModel",
          "model_module_version": "1.5.0",
          "state": {
            "_view_name": "StyleView",
            "_model_name": "DescriptionStyleModel",
            "description_width": "",
            "_view_module": "@jupyter-widgets/base",
            "_model_module_version": "1.5.0",
            "_view_count": null,
            "_view_module_version": "1.2.0",
            "_model_module": "@jupyter-widgets/controls"
          }
        },
        "bf1efa9541134f12a4f77a5054fd14f1": {
          "model_module": "@jupyter-widgets/base",
          "model_name": "LayoutModel",
          "model_module_version": "1.2.0",
          "state": {
            "_view_name": "LayoutView",
            "grid_template_rows": null,
            "right": null,
            "justify_content": null,
            "_view_module": "@jupyter-widgets/base",
            "overflow": null,
            "_model_module_version": "1.2.0",
            "_view_count": null,
            "flex_flow": null,
            "width": null,
            "min_width": null,
            "border": null,
            "align_items": null,
            "bottom": null,
            "_model_module": "@jupyter-widgets/base",
            "top": null,
            "grid_column": null,
            "overflow_y": null,
            "overflow_x": null,
            "grid_auto_flow": null,
            "grid_area": null,
            "grid_template_columns": null,
            "flex": null,
            "_model_name": "LayoutModel",
            "justify_items": null,
            "grid_row": null,
            "max_height": null,
            "align_content": null,
            "visibility": null,
            "align_self": null,
            "height": null,
            "min_height": null,
            "padding": null,
            "grid_auto_rows": null,
            "grid_gap": null,
            "max_width": null,
            "order": null,
            "_view_module_version": "1.2.0",
            "grid_template_areas": null,
            "object_position": null,
            "object_fit": null,
            "grid_auto_columns": null,
            "margin": null,
            "display": null,
            "left": null
          }
        },
        "d4170d99b8c344ff876989400a082d15": {
          "model_module": "@jupyter-widgets/controls",
          "model_name": "ProgressStyleModel",
          "model_module_version": "1.5.0",
          "state": {
            "_view_name": "StyleView",
            "_model_name": "ProgressStyleModel",
            "description_width": "",
            "_view_module": "@jupyter-widgets/base",
            "_model_module_version": "1.5.0",
            "_view_count": null,
            "_view_module_version": "1.2.0",
            "bar_color": null,
            "_model_module": "@jupyter-widgets/controls"
          }
        },
        "622dad4d4a874329b8b6e6ba8d78c93f": {
          "model_module": "@jupyter-widgets/base",
          "model_name": "LayoutModel",
          "model_module_version": "1.2.0",
          "state": {
            "_view_name": "LayoutView",
            "grid_template_rows": null,
            "right": null,
            "justify_content": null,
            "_view_module": "@jupyter-widgets/base",
            "overflow": null,
            "_model_module_version": "1.2.0",
            "_view_count": null,
            "flex_flow": null,
            "width": null,
            "min_width": null,
            "border": null,
            "align_items": null,
            "bottom": null,
            "_model_module": "@jupyter-widgets/base",
            "top": null,
            "grid_column": null,
            "overflow_y": null,
            "overflow_x": null,
            "grid_auto_flow": null,
            "grid_area": null,
            "grid_template_columns": null,
            "flex": null,
            "_model_name": "LayoutModel",
            "justify_items": null,
            "grid_row": null,
            "max_height": null,
            "align_content": null,
            "visibility": null,
            "align_self": null,
            "height": null,
            "min_height": null,
            "padding": null,
            "grid_auto_rows": null,
            "grid_gap": null,
            "max_width": null,
            "order": null,
            "_view_module_version": "1.2.0",
            "grid_template_areas": null,
            "object_position": null,
            "object_fit": null,
            "grid_auto_columns": null,
            "margin": null,
            "display": null,
            "left": null
          }
        },
        "a071bd97045548349ef2a1f7f1c24687": {
          "model_module": "@jupyter-widgets/controls",
          "model_name": "DescriptionStyleModel",
          "model_module_version": "1.5.0",
          "state": {
            "_view_name": "StyleView",
            "_model_name": "DescriptionStyleModel",
            "description_width": "",
            "_view_module": "@jupyter-widgets/base",
            "_model_module_version": "1.5.0",
            "_view_count": null,
            "_view_module_version": "1.2.0",
            "_model_module": "@jupyter-widgets/controls"
          }
        },
        "3bce4b38608740f49124603e1414abc0": {
          "model_module": "@jupyter-widgets/base",
          "model_name": "LayoutModel",
          "model_module_version": "1.2.0",
          "state": {
            "_view_name": "LayoutView",
            "grid_template_rows": null,
            "right": null,
            "justify_content": null,
            "_view_module": "@jupyter-widgets/base",
            "overflow": null,
            "_model_module_version": "1.2.0",
            "_view_count": null,
            "flex_flow": null,
            "width": null,
            "min_width": null,
            "border": null,
            "align_items": null,
            "bottom": null,
            "_model_module": "@jupyter-widgets/base",
            "top": null,
            "grid_column": null,
            "overflow_y": null,
            "overflow_x": null,
            "grid_auto_flow": null,
            "grid_area": null,
            "grid_template_columns": null,
            "flex": null,
            "_model_name": "LayoutModel",
            "justify_items": null,
            "grid_row": null,
            "max_height": null,
            "align_content": null,
            "visibility": null,
            "align_self": null,
            "height": null,
            "min_height": null,
            "padding": null,
            "grid_auto_rows": null,
            "grid_gap": null,
            "max_width": null,
            "order": null,
            "_view_module_version": "1.2.0",
            "grid_template_areas": null,
            "object_position": null,
            "object_fit": null,
            "grid_auto_columns": null,
            "margin": null,
            "display": null,
            "left": null
          }
        }
      }
    }
  },
  "cells": [
    {
      "cell_type": "markdown",
      "metadata": {
        "id": "PxsnuQoYp-e_"
      },
      "source": [
        "# Data Analytics on Stackoverflow Data"
      ]
    },
    {
      "cell_type": "markdown",
      "metadata": {
        "id": "dtqx7lwPrEqo"
      },
      "source": [
        "## Backend"
      ]
    },
    {
      "cell_type": "markdown",
      "metadata": {
        "id": "pOoqs30PqCuE"
      },
      "source": [
        "### Install and import dependencies"
      ]
    },
    {
      "cell_type": "code",
      "metadata": {
        "colab": {
          "base_uri": "https://localhost:8080/"
        },
        "id": "n_ymdCSap5ef",
        "outputId": "b0094e11-3680-49fd-e556-fa2487993735"
      },
      "source": [
        "!pip install requests-html requests pandas"
      ],
      "execution_count": 1,
      "outputs": [
        {
          "output_type": "stream",
          "name": "stdout",
          "text": [
            "Collecting requests-html\n",
            "  Downloading requests_html-0.10.0-py3-none-any.whl (13 kB)\n",
            "Requirement already satisfied: requests in /usr/local/lib/python3.7/dist-packages (2.23.0)\n",
            "Requirement already satisfied: pandas in /usr/local/lib/python3.7/dist-packages (1.1.5)\n",
            "Collecting parse\n",
            "  Downloading parse-1.19.0.tar.gz (30 kB)\n",
            "Requirement already satisfied: bs4 in /usr/local/lib/python3.7/dist-packages (from requests-html) (0.0.1)\n",
            "Collecting pyppeteer>=0.0.14\n",
            "  Downloading pyppeteer-0.2.6-py3-none-any.whl (83 kB)\n",
            "\u001b[K     |████████████████████████████████| 83 kB 1.6 MB/s \n",
            "\u001b[?25hCollecting w3lib\n",
            "  Downloading w3lib-1.22.0-py2.py3-none-any.whl (20 kB)\n",
            "Collecting pyquery\n",
            "  Downloading pyquery-1.4.3-py3-none-any.whl (22 kB)\n",
            "Collecting fake-useragent\n",
            "  Downloading fake-useragent-0.1.11.tar.gz (13 kB)\n",
            "Collecting websockets<10.0,>=9.1\n",
            "  Downloading websockets-9.1-cp37-cp37m-manylinux2010_x86_64.whl (103 kB)\n",
            "\u001b[K     |████████████████████████████████| 103 kB 27.2 MB/s \n",
            "\u001b[?25hCollecting pyee<9.0.0,>=8.1.0\n",
            "  Downloading pyee-8.2.2-py2.py3-none-any.whl (12 kB)\n",
            "Requirement already satisfied: appdirs<2.0.0,>=1.4.3 in /usr/local/lib/python3.7/dist-packages (from pyppeteer>=0.0.14->requests-html) (1.4.4)\n",
            "Requirement already satisfied: importlib-metadata>=1.4 in /usr/local/lib/python3.7/dist-packages (from pyppeteer>=0.0.14->requests-html) (4.8.2)\n",
            "Collecting urllib3<2.0.0,>=1.25.8\n",
            "  Downloading urllib3-1.26.7-py2.py3-none-any.whl (138 kB)\n",
            "\u001b[K     |████████████████████████████████| 138 kB 38.3 MB/s \n",
            "\u001b[?25hRequirement already satisfied: tqdm<5.0.0,>=4.42.1 in /usr/local/lib/python3.7/dist-packages (from pyppeteer>=0.0.14->requests-html) (4.62.3)\n",
            "Requirement already satisfied: typing-extensions>=3.6.4 in /usr/local/lib/python3.7/dist-packages (from importlib-metadata>=1.4->pyppeteer>=0.0.14->requests-html) (3.10.0.2)\n",
            "Requirement already satisfied: zipp>=0.5 in /usr/local/lib/python3.7/dist-packages (from importlib-metadata>=1.4->pyppeteer>=0.0.14->requests-html) (3.6.0)\n",
            "Requirement already satisfied: idna<3,>=2.5 in /usr/local/lib/python3.7/dist-packages (from requests) (2.10)\n",
            "Requirement already satisfied: chardet<4,>=3.0.2 in /usr/local/lib/python3.7/dist-packages (from requests) (3.0.4)\n",
            "  Downloading urllib3-1.25.11-py2.py3-none-any.whl (127 kB)\n",
            "\u001b[K     |████████████████████████████████| 127 kB 45.1 MB/s \n",
            "\u001b[?25hRequirement already satisfied: certifi>=2017.4.17 in /usr/local/lib/python3.7/dist-packages (from requests) (2021.10.8)\n",
            "Requirement already satisfied: numpy>=1.15.4 in /usr/local/lib/python3.7/dist-packages (from pandas) (1.19.5)\n",
            "Requirement already satisfied: python-dateutil>=2.7.3 in /usr/local/lib/python3.7/dist-packages (from pandas) (2.8.2)\n",
            "Requirement already satisfied: pytz>=2017.2 in /usr/local/lib/python3.7/dist-packages (from pandas) (2018.9)\n",
            "Requirement already satisfied: six>=1.5 in /usr/local/lib/python3.7/dist-packages (from python-dateutil>=2.7.3->pandas) (1.15.0)\n",
            "Requirement already satisfied: beautifulsoup4 in /usr/local/lib/python3.7/dist-packages (from bs4->requests-html) (4.6.3)\n",
            "Collecting cssselect>0.7.9\n",
            "  Downloading cssselect-1.1.0-py2.py3-none-any.whl (16 kB)\n",
            "Requirement already satisfied: lxml>=2.1 in /usr/local/lib/python3.7/dist-packages (from pyquery->requests-html) (4.2.6)\n",
            "Building wheels for collected packages: fake-useragent, parse\n",
            "  Building wheel for fake-useragent (setup.py) ... \u001b[?25l\u001b[?25hdone\n",
            "  Created wheel for fake-useragent: filename=fake_useragent-0.1.11-py3-none-any.whl size=13502 sha256=72b80fde447bce24bfa726a8516cbf2db1169cbfa8b6695c1c249f84dc8a87cf\n",
            "  Stored in directory: /root/.cache/pip/wheels/ed/f7/62/50ab6c9a0b5567267ab76a9daa9d06315704209b2c5d032031\n",
            "  Building wheel for parse (setup.py) ... \u001b[?25l\u001b[?25hdone\n",
            "  Created wheel for parse: filename=parse-1.19.0-py3-none-any.whl size=24591 sha256=5e9ae72567f689a41350831de7e8844f4a05eba24eba6102e40b2e26b12e72f9\n",
            "  Stored in directory: /root/.cache/pip/wheels/9c/aa/cc/f2228050ccb40f22144b073f15a2c84f11204f29fc0dce028e\n",
            "Successfully built fake-useragent parse\n",
            "Installing collected packages: websockets, urllib3, pyee, cssselect, w3lib, pyquery, pyppeteer, parse, fake-useragent, requests-html\n",
            "  Attempting uninstall: urllib3\n",
            "    Found existing installation: urllib3 1.24.3\n",
            "    Uninstalling urllib3-1.24.3:\n",
            "      Successfully uninstalled urllib3-1.24.3\n",
            "\u001b[31mERROR: pip's dependency resolver does not currently take into account all the packages that are installed. This behaviour is the source of the following dependency conflicts.\n",
            "datascience 0.10.6 requires folium==0.2.1, but you have folium 0.8.3 which is incompatible.\u001b[0m\n",
            "Successfully installed cssselect-1.1.0 fake-useragent-0.1.11 parse-1.19.0 pyee-8.2.2 pyppeteer-0.2.6 pyquery-1.4.3 requests-html-0.10.0 urllib3-1.25.11 w3lib-1.22.0 websockets-9.1\n"
          ]
        }
      ]
    },
    {
      "cell_type": "code",
      "metadata": {
        "colab": {
          "base_uri": "https://localhost:8080/"
        },
        "id": "ppSkEd8JqEYn",
        "outputId": "8d02b2cd-dd5d-4bab-e34a-7784377b4942"
      },
      "source": [
        "!pip install seaborn"
      ],
      "execution_count": 2,
      "outputs": [
        {
          "output_type": "stream",
          "name": "stdout",
          "text": [
            "Requirement already satisfied: seaborn in /usr/local/lib/python3.7/dist-packages (0.11.2)\n",
            "Requirement already satisfied: scipy>=1.0 in /usr/local/lib/python3.7/dist-packages (from seaborn) (1.4.1)\n",
            "Requirement already satisfied: pandas>=0.23 in /usr/local/lib/python3.7/dist-packages (from seaborn) (1.1.5)\n",
            "Requirement already satisfied: matplotlib>=2.2 in /usr/local/lib/python3.7/dist-packages (from seaborn) (3.2.2)\n",
            "Requirement already satisfied: numpy>=1.15 in /usr/local/lib/python3.7/dist-packages (from seaborn) (1.19.5)\n",
            "Requirement already satisfied: pyparsing!=2.0.4,!=2.1.2,!=2.1.6,>=2.0.1 in /usr/local/lib/python3.7/dist-packages (from matplotlib>=2.2->seaborn) (3.0.6)\n",
            "Requirement already satisfied: python-dateutil>=2.1 in /usr/local/lib/python3.7/dist-packages (from matplotlib>=2.2->seaborn) (2.8.2)\n",
            "Requirement already satisfied: kiwisolver>=1.0.1 in /usr/local/lib/python3.7/dist-packages (from matplotlib>=2.2->seaborn) (1.3.2)\n",
            "Requirement already satisfied: cycler>=0.10 in /usr/local/lib/python3.7/dist-packages (from matplotlib>=2.2->seaborn) (0.11.0)\n",
            "Requirement already satisfied: pytz>=2017.2 in /usr/local/lib/python3.7/dist-packages (from pandas>=0.23->seaborn) (2018.9)\n",
            "Requirement already satisfied: six>=1.5 in /usr/local/lib/python3.7/dist-packages (from python-dateutil>=2.1->matplotlib>=2.2->seaborn) (1.15.0)\n"
          ]
        }
      ]
    },
    {
      "cell_type": "code",
      "metadata": {
        "id": "-woraWvkqS7d"
      },
      "source": [
        "import requests\n",
        "from requests_html import HTML\n",
        "import numpy as np\n",
        "import pandas as pd\n",
        "import random\n",
        "import os\n",
        "import time\n",
        "import warnings\n",
        "from tqdm import tqdm_notebook\n",
        "from collections import Counter\n",
        "from gensim.models import Word2Vec\n",
        "from sklearn.decomposition import PCA\n",
        "import matplotlib.pyplot as plt\n",
        "import seaborn as sns\n",
        "%matplotlib inline\n",
        "\n",
        "warnings.filterwarnings(\"ignore\")\n",
        "\n",
        "plt.rcParams['figure.figsize'] = (10.0, 10.0)"
      ],
      "execution_count": 3,
      "outputs": []
    },
    {
      "cell_type": "markdown",
      "metadata": {
        "id": "3vEMBOQJrPZg"
      },
      "source": [
        "### Scraping multiple pages"
      ]
    },
    {
      "cell_type": "markdown",
      "metadata": {
        "id": "zf_FtDU5rSNA"
      },
      "source": [
        "#### Functions for data manupulation and cleaning"
      ]
    },
    {
      "cell_type": "code",
      "metadata": {
        "id": "QgXgIyX6qWwY"
      },
      "source": [
        "def clean_scraped_data(text, keyname=None):\n",
        "  if keyname == 'user_name':\n",
        "    return text.split(\"\\n\")[0]\n",
        "  if keyname == 'votes':\n",
        "      if text != '1\\nvote':\n",
        "        return text.replace('\\nvotes', '')\n",
        "      else:\n",
        "        return text.replace('\\nvote', '')\n",
        "  if keyname == 'views':\n",
        "      return text.replace(' views', '')\n",
        "  if keyname == 'num_answers':\n",
        "    if text != '1answer':\n",
        "      return text.replace('answers', '')\n",
        "    else:\n",
        "      return text.replace('answer', '')\n",
        "  return text"
      ],
      "execution_count": 4,
      "outputs": []
    },
    {
      "cell_type": "code",
      "metadata": {
        "id": "uOTUtxwWrY-a"
      },
      "source": [
        "def evaluate(text, keyname=None):\n",
        "  if keyname == 'votes' or keyname == 'views' or keyname == 'num_answers':\n",
        "    if text[-1] == 'k':\n",
        "      text = pd.eval(text.replace('k', ' * 10**3',1))\n",
        "    elif text[-1] == 'm':\n",
        "      text = pd.eval(text.replace('m', ' * 10**6',1))\n",
        "  return text"
      ],
      "execution_count": 5,
      "outputs": []
    },
    {
      "cell_type": "markdown",
      "metadata": {
        "id": "pK2ROWagrc0n"
      },
      "source": [
        "#### Function for Parsing the web page"
      ]
    },
    {
      "cell_type": "code",
      "metadata": {
        "id": "_X74x8dJrejn"
      },
      "source": [
        "def parse_tagged_page(html):\n",
        "  question_summaries = html.find(\".question-summary\")\n",
        "  key_names = ['question', 'votes', 'views', 'num_answers', 'tags', 'user_name', 'date']\n",
        "  classes_names = ['.question-hyperlink', '.vote', '.views', '.status', '.tags', '.user-details', '.relativetime']\n",
        "  datas = []\n",
        "  for el in question_summaries:\n",
        "      question_data = {} \n",
        "      for i, _class in enumerate(classes_names):\n",
        "          sub_el = el.find(_class, first=True)\n",
        "          keyname = key_names[i]\n",
        "          question_data[keyname] = clean_scraped_data(sub_el.text, keyname=keyname)\n",
        "          question_data[keyname] = evaluate(question_data[keyname], keyname=keyname)\n",
        "\n",
        "      datas.append(question_data)\n",
        "  return datas"
      ],
      "execution_count": 6,
      "outputs": []
    },
    {
      "cell_type": "markdown",
      "metadata": {
        "id": "fXJ4_PNorlow"
      },
      "source": [
        "#### Function for Extracting the data from url"
      ]
    },
    {
      "cell_type": "code",
      "metadata": {
        "id": "qej52zTsrmr3"
      },
      "source": [
        "def extract_data_from_url(url):\n",
        "  res = requests.get(url)\n",
        "  if res.status_code not in range(200, 299):\n",
        "      print(\"HTML response failure, retrying..\")\n",
        "      return []\n",
        "  html_str = res.text\n",
        "  html = HTML(html=html_str)\n",
        "  datas = parse_tagged_page(html)\n",
        "  return datas"
      ],
      "execution_count": 7,
      "outputs": []
    },
    {
      "cell_type": "markdown",
      "metadata": {
        "id": "P-mjBFjhuUmt"
      },
      "source": [
        "#### Function that estimates the sort query filter"
      ]
    },
    {
      "cell_type": "code",
      "metadata": {
        "id": "NPaQkZEPuTyP"
      },
      "source": [
        "def filter_sort(filter = None):\n",
        "  if filter == '1':\n",
        "    return \"Newest\"\n",
        "  elif filter == '2':\n",
        "    return \"RecentActivity\"\n",
        "  elif filter == '3':\n",
        "    return \"MostVotes\"\n",
        "  elif filter == '4':\n",
        "    return \"MostFrequent\"\n",
        "  elif filter == '5':\n",
        "    return \"BountyEndingSoon\"\n",
        "  else:\n",
        "    return []"
      ],
      "execution_count": 8,
      "outputs": []
    },
    {
      "cell_type": "markdown",
      "metadata": {
        "id": "LQAHkeO3r1gB"
      },
      "source": [
        "#### Main function for Scraping data "
      ]
    },
    {
      "cell_type": "code",
      "metadata": {
        "id": "Lc6mLfKJr38x"
      },
      "source": [
        "def scrape_tag(tag = None, query_filter = None, max_pages=20):\n",
        "  base_url = 'https://stackoverflow.com/questions/tagged/'\n",
        "  datas = []\n",
        "  for p in range(max_pages):\n",
        "      page_num = p + 1\n",
        "      url = f\"{base_url}{tag}?sort={query_filter}&page={page_num}\"\n",
        "      print(url)\n",
        "      datas += extract_data_from_url(url)\n",
        "      time.sleep(1.2)\n",
        "  df = pd.DataFrame(datas)\n",
        "  df['votes'] = df['votes'].astype(int)\n",
        "  df['num_answers'] = df['num_answers'].astype(int)\n",
        "  df['views'] = df['views'].astype(int)\n",
        "  df.to_csv(tag+\"_scraped.csv\", index=False)\n",
        "  return df"
      ],
      "execution_count": 9,
      "outputs": []
    },
    {
      "cell_type": "markdown",
      "metadata": {
        "id": "mVHRrlJTJLlY"
      },
      "source": [
        "### Data Analysis functions"
      ]
    },
    {
      "cell_type": "markdown",
      "metadata": {
        "id": "-N0ig6E-Kz9u"
      },
      "source": [
        "#### Univariate Analysis: Analyse Votes\n",
        "\n"
      ]
    },
    {
      "cell_type": "code",
      "metadata": {
        "id": "_3sQluvIJ0p5"
      },
      "source": [
        "def ip_1(df=None):\n",
        "  print(\"\\nUnivariate Analysis: Analyse Votes\")\n",
        "  sns.boxplot(df['votes'])\n",
        "  plt.show()\n",
        "  df['votes'].value_counts()/len(df)*100\n",
        "  sns.countplot(df['votes'])\n",
        "  plt.show()"
      ],
      "execution_count": 10,
      "outputs": []
    },
    {
      "cell_type": "markdown",
      "metadata": {
        "id": "2sroGM14LdsW"
      },
      "source": [
        "#### Univariate Analysis: Analyse Number of Answers\n"
      ]
    },
    {
      "cell_type": "code",
      "metadata": {
        "id": "6xRojv10J2SJ"
      },
      "source": [
        "def ip_2(df=None):\n",
        "  print(\"\\nUnivariate Analysis: Analyse Number of Answers\")\n",
        "  sns.boxplot(df['num_answers'])\n",
        "  plt.show()\n",
        "  df['num_answers'].value_counts()/len(df)*100\n",
        "  sns.countplot(df['num_answers'])\n",
        "  plt.show()"
      ],
      "execution_count": 11,
      "outputs": []
    },
    {
      "cell_type": "markdown",
      "metadata": {
        "id": "R7lWFXViLgMG"
      },
      "source": [
        "#### Univariate Analysis: Analyse Views\n"
      ]
    },
    {
      "cell_type": "code",
      "metadata": {
        "id": "X8mcWj_SJ3Yi"
      },
      "source": [
        "def ip_3(df=None):\n",
        "  print(\"\\nUnivariate Analysis: Analyse Views\")\n",
        "  sns.boxplot(df['views'])\n",
        "  plt.show()\n",
        "  df['views'].value_counts()/len(df)*100\n",
        "  sns.countplot(df['views'])\n",
        "  plt.show()"
      ],
      "execution_count": 12,
      "outputs": []
    },
    {
      "cell_type": "markdown",
      "metadata": {
        "id": "N6sQBfy-Li-_"
      },
      "source": [
        "#### Univariate Analysis: Are the tags mentioned in questions similar to each other?\n"
      ]
    },
    {
      "cell_type": "code",
      "metadata": {
        "id": "eqNjA4fLJ4oy"
      },
      "source": [
        "def ip_4(df=None):\n",
        "  print(\"\\nUnivariate Analysis: Are the tags mentioned in questions similar to each other?\")\n",
        "  tags = []\n",
        "  for tag in list(df['tags']):\n",
        "    tags.append(tag.split(' '))\n",
        "\n",
        "  embedding = Word2Vec(tags, sg=1, size=256, min_count=1)\n",
        "  X = embedding[embedding.wv.vocab]\n",
        "  pca = PCA(n_components=2)\n",
        "  result = pca.fit_transform(X)\n",
        "\n",
        "  fig, ax = plt.subplots()\n",
        "  ax.plot(result[:, 0], result[:, 1], 'o')\n",
        "  ax.set_title('Embeddings - Spread')\n",
        "\n",
        "  fig, ax = plt.subplots()\n",
        "  ax.set_title('Embeddings - Annotated')\n",
        "  ax.scatter(result[:25, 0], result[:25, 1])\n",
        "  for j, txt in enumerate(list(embedding.wv.vocab)[:25]):\n",
        "    ax.annotate(txt, result[j])\n",
        "    \n",
        "  plt.show()\n"
      ],
      "execution_count": 13,
      "outputs": []
    },
    {
      "cell_type": "markdown",
      "metadata": {
        "id": "luGW2N69LlZ3"
      },
      "source": [
        "#### Bivariate Analysis: Which tags are popularly used by Stackoverflow community in this domain?"
      ]
    },
    {
      "cell_type": "code",
      "metadata": {
        "id": "4EXD1f3jJLEK"
      },
      "source": [
        "def ip_5(df=None):\n",
        "  print(\"\\nBivariate Analysis: Which tags are popularly used by Stackoverflow community in this domain?\")\n",
        "  tags_list = list(df['tags'].unique())\n",
        "  all_tags = []\n",
        "  for tag in tqdm_notebook(tags_list):\n",
        "      all_tags += tag.split(' ')\n",
        "\n",
        "  count_tags = Counter(all_tags)\n",
        "  tags_list = pd.DataFrame([list(count_tags.keys()), list(count_tags.values())])\n",
        "  tags_list = tags_list.transpose()\n",
        "  tags_list.columns = ['tags', 'counts']\n",
        "  tags_list = tags_list.sort_values(by='counts', ascending=False)\n",
        "\n",
        "  plt.barh(list(tags_list['tags'])[:25], list(tags_list['counts'])[:25])\n",
        "  plt.ylabel('Tags -->')\n",
        "  plt.xlabel('Count -->')\n",
        "  plt.title('25 Most Popular Tags')\n",
        "  plt.show()"
      ],
      "execution_count": 14,
      "outputs": []
    },
    {
      "cell_type": "markdown",
      "metadata": {
        "id": "OqiwuvwvLtYY"
      },
      "source": [
        "#### Bivariate Analysis: How many tags are present per question?\n"
      ]
    },
    {
      "cell_type": "code",
      "metadata": {
        "id": "icjB0LmoJnj6"
      },
      "source": [
        "def ip_6(df=None):\n",
        "    print(\"\\nBivariate Analysis: How many tags are present per question?\")\n",
        "    tags = list(df['tags'].unique())\n",
        "    num_tags = []\n",
        "\n",
        "    for tag_ in tqdm_notebook(tags):\n",
        "        num_tags.append(len(tag_.split(' ')))\n",
        "\n",
        "    num_tags = Counter(num_tags)\n",
        "\n",
        "    plt.bar(list(num_tags.keys()), list(num_tags.values()))\n",
        "    plt.xlabel('Number of tags -->')\n",
        "    plt.ylabel('Number of questions -->')\n",
        "    plt.title('Number of Tags per question')\n",
        "    plt.show()"
      ],
      "execution_count": 15,
      "outputs": []
    },
    {
      "cell_type": "markdown",
      "metadata": {
        "id": "M3AVBnt8LvLH"
      },
      "source": [
        "#### Bivariate Analysis: Are the number of views of question statistically related to number of answers?\n"
      ]
    },
    {
      "cell_type": "code",
      "metadata": {
        "id": "IN_BPsYnJwMT"
      },
      "source": [
        "def ip_7(df=None):\n",
        "  print(\"\\nBivariate Analysis: Are the number of views of question statistically related to number of answers?\")\n",
        "  view_q = df[['views', 'num_answers']].drop_duplicates().reset_index(drop=True)\n",
        "  display(view_q.astype(int).describe())"
      ],
      "execution_count": 16,
      "outputs": []
    },
    {
      "cell_type": "markdown",
      "metadata": {
        "id": "lDsZHAXiLw_v"
      },
      "source": [
        "#### Bivariate Analysis: Are the tags related to Views?\n"
      ]
    },
    {
      "cell_type": "code",
      "metadata": {
        "id": "hYiAX4-GJ7-b"
      },
      "source": [
        "def ip_8(df=None):\n",
        "  print(\"\\nBivariate Analysis: Are the tags related to Views?\")\n",
        "  tag_views = df[['tags', 'views']].drop_duplicates().reset_index(drop=True)\n",
        "  tagView = {}\n",
        "  for i in tqdm_notebook(range(len(tag_views['tags']))):\n",
        "      for tag in tag_views['tags'][i].split(' '):\n",
        "          try:\n",
        "              tagView[tag].append(tag_views['views'][i])\n",
        "          except Exception:\n",
        "              tagView[tag] = [tag_views['views'][i]]\n",
        "  tagViewAvg = {}\n",
        "  for key in list(tagView.keys()):\n",
        "      tagViewAvg[key] = np.average(tagView[key])\n",
        "\n",
        "  tagViewAvg = pd.DataFrame([list(tagViewAvg.keys()), list(tagViewAvg.values())])\n",
        "  tagViewAvg = tagViewAvg.transpose()\n",
        "  tagViewAvg.columns = ['tags', 'views']\n",
        "  tagViewAvg = tagViewAvg.sort_values('views')\n",
        "\n",
        "  plt.barh(list(tagViewAvg['tags'])[-25:], list(tagViewAvg['views'])[-25:])\n",
        "  plt.xlabel('Average number of Views -->')\n",
        "  plt.ylabel('Tags -->')\n",
        "  plt.title('25 - Most Popular Tags')\n",
        "  plt.show()\n",
        "\n",
        "  fig, ax = plt.subplots(2, 2)\n",
        "\n",
        "  ax[0][0].plot([0] + tagView['python'])\n",
        "  ax[0][0].set_title('python')\n",
        "\n",
        "  ax[0][1].plot([0] + tagView['c'])\n",
        "  ax[0][1].set_title('c')\n",
        "\n",
        "  ax[1][0].plot([0] + tagView['java'])\n",
        "  ax[1][0].set_title('java')\n",
        "\n",
        "  ax[1][1].plot([0] + tagView['c#'])\n",
        "  ax[1][1].set_title('c#')\n",
        "  plt.show()"
      ],
      "execution_count": 17,
      "outputs": []
    },
    {
      "cell_type": "markdown",
      "metadata": {
        "id": "YDdqOSHkMLkX"
      },
      "source": [
        "#### Multivariate analysis: Analyse Votes, Number of Answers, Views"
      ]
    },
    {
      "cell_type": "code",
      "metadata": {
        "id": "N_rxO9FZJ9JT"
      },
      "source": [
        "def ip_9(df=None):\n",
        "  print(\"\\nMultivariate analysis: Analyse Votes, Number of Answers, Views\")\n",
        "  print(\"\\nPair plot: \")\n",
        "  sns.pairplot(df)\n",
        "  plt.show()\n",
        "  print(\"\\nCorrelation plot: \")\n",
        "  sns.heatmap(df.corr())\n",
        "  plt.show()"
      ],
      "execution_count": 18,
      "outputs": []
    },
    {
      "cell_type": "markdown",
      "metadata": {
        "id": "3bmjHW_isTrh"
      },
      "source": [
        "## Front end"
      ]
    },
    {
      "cell_type": "code",
      "metadata": {
        "colab": {
          "base_uri": "https://localhost:8080/",
          "height": 1000,
          "referenced_widgets": [
            "17178f4053c744edb050103abc3ad206",
            "97b7fa87019d41f98b6fccda351e8f16",
            "c9bb961aa38f4089b9e5f2cbccf423f1",
            "a3126661aed74365902c8aab487202c1",
            "2e9acaf600cf4b86a08699fa40f2bb24",
            "9928346cf8a843edb182879ed2743690",
            "af809ada58aa4606b9578e47de92ca9e",
            "1b6d962742104a368f5cfe47cd1c6b95",
            "2f59ddd318a247b99e4e7db39640b2d7",
            "6c899175d8524286ad637e4b8af3109c",
            "d9704b0abfaa44eaa66136147d0aad80",
            "302a0fc25108427b968c5b3e3bbd2693",
            "92fc67cffa1f47298ba6f6e6df2c2714",
            "6ebc4aa1977c40ddbcf85019ef356b19",
            "2c31d29bb6e5430ca52debafa8aeb485",
            "9a0283e77fb14cadb7ac1e41fb659839",
            "9c68135b13494be282b1511755c6ca07",
            "ca39c0a96f3049ef89291260ce481c9d",
            "26989e4e566b4e908b739b781d9e4d1e",
            "0b7ebd559b784068b97067c7c9fb2ccd",
            "26af97806a4e4dddbc3ef8c2d0359eab",
            "b896c9c71f0a4d4ab2fed70153f6ab19",
            "c7dba664b0b5423ca2598e608eca693f",
            "a679db32808a42a1b69b99557eb02269",
            "b3a799dd37d640b5b20e30b0b78ed1c6",
            "cd002a025d354baf82b22d81394f15d3",
            "efc5baf1ee4c4339bf416aa6458e89e2",
            "fef902e7f47148409177b696d72f73bf",
            "bf1efa9541134f12a4f77a5054fd14f1",
            "d4170d99b8c344ff876989400a082d15",
            "622dad4d4a874329b8b6e6ba8d78c93f",
            "a071bd97045548349ef2a1f7f1c24687",
            "3bce4b38608740f49124603e1414abc0"
          ]
        },
        "id": "EVxtgxVTsd0j",
        "outputId": "60f07d2c-83f0-47e4-ea45-67b7db889f6c"
      },
      "source": [
        "print(\"*********************************************************************** StackOverflow Data Analysis *************************************************************************************************\")\n",
        "\n",
        "TAG = input(\"Hello!\\nOn which domain would you like to perform the analysis?\\n\")\n",
        "filter = input(\"\\nWhich filter would you like to apply?\\n1.Newest\\n2.Recent activity\\n3.Most votes\\n4.Most frequent\\n5.Bounty ending soon\\n\")\n",
        "FILTER = filter_sort(filter)\n",
        "print(\"\\nCollecting data..\")\n",
        "df = scrape_tag(TAG,FILTER)\n",
        "print(\"Data collection successful.\")\n",
        "\n",
        "ip = 0\n",
        "while ip != '10':\n",
        "\n",
        "  ip = input(\"\\n\\n\\nWhich analysis would you like to perform?\"\n",
        "            \"\\n\\nUnivariate Analysis:\"\n",
        "            \"\\n1.Analyse Votes\"\n",
        "            \"\\n2.Analyse Number of Answers\"\n",
        "            \"\\n3.Analyse Views\"\n",
        "            \"\\n4.Are the tags mentioned in questions similar to each other?\"\n",
        "            \"\\n\\nBivariate Analysis:\"\n",
        "            \"\\n5.Which tags are popularly used by Stackoverflow community in this domain?\"\n",
        "            \"\\n6.How many tags are present per question?\"\n",
        "            \"\\n7.Are the number of views of question statistically related to number of answers?\"\n",
        "            \"\\n8.Are the tags related to Views?\"\n",
        "            \"\\n\\nMultivariate analysis:\"\n",
        "            \"\\n9.Analyse Votes, Number of Answers, Views\"\n",
        "            \"\\n\\n10.Exit\\n\")\n",
        "  \n",
        "  if ip == '1':\n",
        "    ip_1(df)\n",
        "\n",
        "  elif ip == '2':\n",
        "    ip_2(df)\n",
        "\n",
        "  elif ip == '3':\n",
        "    ip_3(df)\n",
        "  \n",
        "  elif ip == '4':\n",
        "    ip_4(df)\n",
        "\n",
        "  elif ip == '5':\n",
        "    ip_5(df)\n",
        "  \n",
        "  elif ip == '6':\n",
        "    ip_6(df)\n",
        "\n",
        "  elif ip == '7':\n",
        "    ip_7(df)\n",
        "\n",
        "    2\n",
        "  elif ip == '8':\n",
        "    ip_8(df)\n",
        "\n",
        "  elif ip == '9':\n",
        "    ip_9(df)\n"
      ],
      "execution_count": 19,
      "outputs": [
        {
          "output_type": "stream",
          "name": "stdout",
          "text": [
            "*********************************************************************** StackOverflow Data Analysis *************************************************************************************************\n",
            "Hello!\n",
            "On which domain would you like to perform the analysis?\n",
            "machine-learning\n",
            "\n",
            "Which filter would you like to apply?\n",
            "1.Newest\n",
            "2.Recent activity\n",
            "3.Most votes\n",
            "4.Most frequent\n",
            "5.Bounty ending soon\n",
            "4\n",
            "\n",
            "Collecting data..\n",
            "https://stackoverflow.com/questions/tagged/machine-learning?sort=MostFrequent&page=1\n",
            "https://stackoverflow.com/questions/tagged/machine-learning?sort=MostFrequent&page=2\n",
            "https://stackoverflow.com/questions/tagged/machine-learning?sort=MostFrequent&page=3\n",
            "https://stackoverflow.com/questions/tagged/machine-learning?sort=MostFrequent&page=4\n",
            "https://stackoverflow.com/questions/tagged/machine-learning?sort=MostFrequent&page=5\n",
            "https://stackoverflow.com/questions/tagged/machine-learning?sort=MostFrequent&page=6\n",
            "https://stackoverflow.com/questions/tagged/machine-learning?sort=MostFrequent&page=7\n",
            "https://stackoverflow.com/questions/tagged/machine-learning?sort=MostFrequent&page=8\n",
            "https://stackoverflow.com/questions/tagged/machine-learning?sort=MostFrequent&page=9\n",
            "https://stackoverflow.com/questions/tagged/machine-learning?sort=MostFrequent&page=10\n",
            "https://stackoverflow.com/questions/tagged/machine-learning?sort=MostFrequent&page=11\n",
            "https://stackoverflow.com/questions/tagged/machine-learning?sort=MostFrequent&page=12\n",
            "https://stackoverflow.com/questions/tagged/machine-learning?sort=MostFrequent&page=13\n",
            "https://stackoverflow.com/questions/tagged/machine-learning?sort=MostFrequent&page=14\n",
            "https://stackoverflow.com/questions/tagged/machine-learning?sort=MostFrequent&page=15\n",
            "https://stackoverflow.com/questions/tagged/machine-learning?sort=MostFrequent&page=16\n",
            "https://stackoverflow.com/questions/tagged/machine-learning?sort=MostFrequent&page=17\n",
            "https://stackoverflow.com/questions/tagged/machine-learning?sort=MostFrequent&page=18\n",
            "https://stackoverflow.com/questions/tagged/machine-learning?sort=MostFrequent&page=19\n",
            "https://stackoverflow.com/questions/tagged/machine-learning?sort=MostFrequent&page=20\n",
            "Data collection successful.\n",
            "\n",
            "\n",
            "\n",
            "Which analysis would you like to perform?\n",
            "\n",
            "Univariate Analysis:\n",
            "1.Analyse Votes\n",
            "2.Analyse Number of Answers\n",
            "3.Analyse Views\n",
            "4.Are the tags mentioned in questions similar to each other?\n",
            "\n",
            "Bivariate Analysis:\n",
            "5.Which tags are popularly used by Stackoverflow community in this domain?\n",
            "6.How many tags are present per question?\n",
            "7.Are the number of views of question statistically related to number of answers?\n",
            "8.Are the tags related to Views?\n",
            "\n",
            "Multivariate analysis:\n",
            "9.Analyse Votes, Number of Answers, Views\n",
            "\n",
            "10.Exit\n",
            "1\n",
            "\n",
            "Univariate Analysis: Analyse Votes\n"
          ]
        },
        {
          "output_type": "display_data",
          "data": {
            "image/png": "[encoded data removed]",
            "text/plain": [
              "<Figure size 720x720 with 1 Axes>"
            ]
          },
          "metadata": {
            "needs_background": "light"
          }
        },
        {
          "output_type": "display_data",
          "data": {
            "image/png": "[encoded data removed]",
            "text/plain": [
              "<Figure size 720x720 with 1 Axes>"
            ]
          },
          "metadata": {
            "needs_background": "light"
          }
        },
        {
          "output_type": "stream",
          "name": "stdout",
          "text": [
            "\n",
            "\n",
            "\n",
            "Which analysis would you like to perform?\n",
            "\n",
            "Univariate Analysis:\n",
            "1.Analyse Votes\n",
            "2.Analyse Number of Answers\n",
            "3.Analyse Views\n",
            "4.Are the tags mentioned in questions similar to each other?\n",
            "\n",
            "Bivariate Analysis:\n",
            "5.Which tags are popularly used by Stackoverflow community in this domain?\n",
            "6.How many tags are present per question?\n",
            "7.Are the number of views of question statistically related to number of answers?\n",
            "8.Are the tags related to Views?\n",
            "\n",
            "Multivariate analysis:\n",
            "9.Analyse Votes, Number of Answers, Views\n",
            "\n",
            "10.Exit\n",
            "2\n",
            "\n",
            "Univariate Analysis: Analyse Number of Answers\n"
          ]
        },
        {
          "output_type": "display_data",
          "data": {
            "image/png": "[encoded data removed]",
            "text/plain": [
              "<Figure size 720x720 with 1 Axes>"
            ]
          },
          "metadata": {
            "needs_background": "light"
          }
        },
        {
          "output_type": "display_data",
          "data": {
            "image/png": "[encoded data removed]",
            "text/plain": [
              "<Figure size 720x720 with 1 Axes>"
            ]
          },
          "metadata": {
            "needs_background": "light"
          }
        },
        {
          "output_type": "stream",
          "name": "stdout",
          "text": [
            "\n",
            "\n",
            "\n",
            "Which analysis would you like to perform?\n",
            "\n",
            "Univariate Analysis:\n",
            "1.Analyse Votes\n",
            "2.Analyse Number of Answers\n",
            "3.Analyse Views\n",
            "4.Are the tags mentioned in questions similar to each other?\n",
            "\n",
            "Bivariate Analysis:\n",
            "5.Which tags are popularly used by Stackoverflow community in this domain?\n",
            "6.How many tags are present per question?\n",
            "7.Are the number of views of question statistically related to number of answers?\n",
            "8.Are the tags related to Views?\n",
            "\n",
            "Multivariate analysis:\n",
            "9.Analyse Votes, Number of Answers, Views\n",
            "\n",
            "10.Exit\n",
            "3\n",
            "\n",
            "Univariate Analysis: Analyse Views\n"
          ]
        },
        {
          "output_type": "display_data",
          "data": {
            "image/png": "[encoded data removed]",
            "text/plain": [
              "<Figure size 720x720 with 1 Axes>"
            ]
          },
          "metadata": {
            "needs_background": "light"
          }
        },
        {
          "output_type": "display_data",
          "data": {
            "image/png": "[encoded data removed]",
            "text/plain": [
              "<Figure size 720x720 with 1 Axes>"
            ]
          },
          "metadata": {
            "needs_background": "light"
          }
        },
        {
          "output_type": "stream",
          "name": "stdout",
          "text": [
            "\n",
            "\n",
            "\n",
            "Which analysis would you like to perform?\n",
            "\n",
            "Univariate Analysis:\n",
            "1.Analyse Votes\n",
            "2.Analyse Number of Answers\n",
            "3.Analyse Views\n",
            "4.Are the tags mentioned in questions similar to each other?\n",
            "\n",
            "Bivariate Analysis:\n",
            "5.Which tags are popularly used by Stackoverflow community in this domain?\n",
            "6.How many tags are present per question?\n",
            "7.Are the number of views of question statistically related to number of answers?\n",
            "8.Are the tags related to Views?\n",
            "\n",
            "Multivariate analysis:\n",
            "9.Analyse Votes, Number of Answers, Views\n",
            "\n",
            "10.Exit\n",
            "4\n",
            "\n",
            "Univariate Analysis: Are the tags mentioned in questions similar to each other?\n"
          ]
        },
        {
          "output_type": "display_data",
          "data": {
            "image/png": "[encoded data removed]",
            "text/plain": [
              "<Figure size 720x720 with 1 Axes>"
            ]
          },
          "metadata": {
            "needs_background": "light"
          }
        },
        {
          "output_type": "display_data",
          "data": {
            "image/png": "[encoded data removed]",
            "text/plain": [
              "<Figure size 720x720 with 1 Axes>"
            ]
          },
          "metadata": {
            "needs_background": "light"
          }
        },
        {
          "output_type": "stream",
          "name": "stdout",
          "text": [
            "\n",
            "\n",
            "\n",
            "Which analysis would you like to perform?\n",
            "\n",
            "Univariate Analysis:\n",
            "1.Analyse Votes\n",
            "2.Analyse Number of Answers\n",
            "3.Analyse Views\n",
            "4.Are the tags mentioned in questions similar to each other?\n",
            "\n",
            "Bivariate Analysis:\n",
            "5.Which tags are popularly used by Stackoverflow community in this domain?\n",
            "6.How many tags are present per question?\n",
            "7.Are the number of views of question statistically related to number of answers?\n",
            "8.Are the tags related to Views?\n",
            "\n",
            "Multivariate analysis:\n",
            "9.Analyse Votes, Number of Answers, Views\n",
            "\n",
            "10.Exit\n",
            "5\n",
            "\n",
            "Bivariate Analysis: Which tags are popularly used by Stackoverflow community in this domain?\n"
          ]
        },
        {
          "output_type": "display_data",
          "data": {
            "application/vnd.jupyter.widget-view+json": {
              "model_id": "17178f4053c744edb050103abc3ad206",
              "version_minor": 0,
              "version_major": 2
            },
            "text/plain": [
              "  0%|          | 0/822 [00:00<?, ?it/s]"
            ]
          },
          "metadata": {}
        },
        {
          "output_type": "display_data",
          "data": {
            "image/png": "[encoded data removed]",
            "text/plain": [
              "<Figure size 720x720 with 1 Axes>"
            ]
          },
          "metadata": {
            "needs_background": "light"
          }
        },
        {
          "output_type": "stream",
          "name": "stdout",
          "text": [
            "\n",
            "\n",
            "\n",
            "Which analysis would you like to perform?\n",
            "\n",
            "Univariate Analysis:\n",
            "1.Analyse Votes\n",
            "2.Analyse Number of Answers\n",
            "3.Analyse Views\n",
            "4.Are the tags mentioned in questions similar to each other?\n",
            "\n",
            "Bivariate Analysis:\n",
            "5.Which tags are popularly used by Stackoverflow community in this domain?\n",
            "6.How many tags are present per question?\n",
            "7.Are the number of views of question statistically related to number of answers?\n",
            "8.Are the tags related to Views?\n",
            "\n",
            "Multivariate analysis:\n",
            "9.Analyse Votes, Number of Answers, Views\n",
            "\n",
            "10.Exit\n",
            "6\n",
            "\n",
            "Bivariate Analysis: How many tags are present per question?\n"
          ]
        },
        {
          "output_type": "display_data",
          "data": {
            "application/vnd.jupyter.widget-view+json": {
              "model_id": "302a0fc25108427b968c5b3e3bbd2693",
              "version_minor": 0,
              "version_major": 2
            },
            "text/plain": [
              "  0%|          | 0/822 [00:00<?, ?it/s]"
            ]
          },
          "metadata": {}
        },
        {
          "output_type": "display_data",
          "data": {
            "image/png": "[encoded data removed]",
            "text/plain": [
              "<Figure size 720x720 with 1 Axes>"
            ]
          },
          "metadata": {
            "needs_background": "light"
          }
        },
        {
          "output_type": "stream",
          "name": "stdout",
          "text": [
            "\n",
            "\n",
            "\n",
            "Which analysis would you like to perform?\n",
            "\n",
            "Univariate Analysis:\n",
            "1.Analyse Votes\n",
            "2.Analyse Number of Answers\n",
            "3.Analyse Views\n",
            "4.Are the tags mentioned in questions similar to each other?\n",
            "\n",
            "Bivariate Analysis:\n",
            "5.Which tags are popularly used by Stackoverflow community in this domain?\n",
            "6.How many tags are present per question?\n",
            "7.Are the number of views of question statistically related to number of answers?\n",
            "8.Are the tags related to Views?\n",
            "\n",
            "Multivariate analysis:\n",
            "9.Analyse Votes, Number of Answers, Views\n",
            "\n",
            "10.Exit\n",
            "7\n",
            "\n",
            "Bivariate Analysis: Are the number of views of question statistically related to number of answers?\n"
          ]
        },
        {
          "output_type": "display_data",
          "data": {
            "text/html": [
              "<div>\n",
              "<style scoped>\n",
              "    .dataframe tbody tr th:only-of-type {\n",
              "        vertical-align: middle;\n",
              "    }\n",
              "\n",
              "    .dataframe tbody tr th {\n",
              "        vertical-align: top;\n",
              "    }\n",
              "\n",
              "    .dataframe thead th {\n",
              "        text-align: right;\n",
              "    }\n",
              "</style>\n",
              "<table border=\"1\" class=\"dataframe\">\n",
              "  <thead>\n",
              "    <tr style=\"text-align: right;\">\n",
              "      <th></th>\n",
              "      <th>views</th>\n",
              "      <th>num_answers</th>\n",
              "    </tr>\n",
              "  </thead>\n",
              "  <tbody>\n",
              "    <tr>\n",
              "      <th>count</th>\n",
              "      <td>438.000000</td>\n",
              "      <td>438.000000</td>\n",
              "    </tr>\n",
              "    <tr>\n",
              "      <th>mean</th>\n",
              "      <td>48386.004566</td>\n",
              "      <td>4.789954</td>\n",
              "    </tr>\n",
              "    <tr>\n",
              "      <th>std</th>\n",
              "      <td>60195.886818</td>\n",
              "      <td>4.118573</td>\n",
              "    </tr>\n",
              "    <tr>\n",
              "      <th>min</th>\n",
              "      <td>42.000000</td>\n",
              "      <td>0.000000</td>\n",
              "    </tr>\n",
              "    <tr>\n",
              "      <th>25%</th>\n",
              "      <td>10000.000000</td>\n",
              "      <td>2.000000</td>\n",
              "    </tr>\n",
              "    <tr>\n",
              "      <th>50%</th>\n",
              "      <td>30000.000000</td>\n",
              "      <td>4.000000</td>\n",
              "    </tr>\n",
              "    <tr>\n",
              "      <th>75%</th>\n",
              "      <td>58750.000000</td>\n",
              "      <td>6.000000</td>\n",
              "    </tr>\n",
              "    <tr>\n",
              "      <th>max</th>\n",
              "      <td>386000.000000</td>\n",
              "      <td>28.000000</td>\n",
              "    </tr>\n",
              "  </tbody>\n",
              "</table>\n",
              "</div>"
            ],
            "text/plain": [
              "               views  num_answers\n",
              "count     438.000000   438.000000\n",
              "mean    48386.004566     4.789954\n",
              "std     60195.886818     4.118573\n",
              "min        42.000000     0.000000\n",
              "25%     10000.000000     2.000000\n",
              "50%     30000.000000     4.000000\n",
              "75%     58750.000000     6.000000\n",
              "max    386000.000000    28.000000"
            ]
          },
          "metadata": {}
        },
        {
          "output_type": "stream",
          "name": "stdout",
          "text": [
            "\n",
            "\n",
            "\n",
            "Which analysis would you like to perform?\n",
            "\n",
            "Univariate Analysis:\n",
            "1.Analyse Votes\n",
            "2.Analyse Number of Answers\n",
            "3.Analyse Views\n",
            "4.Are the tags mentioned in questions similar to each other?\n",
            "\n",
            "Bivariate Analysis:\n",
            "5.Which tags are popularly used by Stackoverflow community in this domain?\n",
            "6.How many tags are present per question?\n",
            "7.Are the number of views of question statistically related to number of answers?\n",
            "8.Are the tags related to Views?\n",
            "\n",
            "Multivariate analysis:\n",
            "9.Analyse Votes, Number of Answers, Views\n",
            "\n",
            "10.Exit\n",
            "8\n",
            "\n",
            "Bivariate Analysis: Are the tags related to Views?\n"
          ]
        },
        {
          "output_type": "display_data",
          "data": {
            "application/vnd.jupyter.widget-view+json": {
              "model_id": "c7dba664b0b5423ca2598e608eca693f",
              "version_minor": 0,
              "version_major": 2
            },
            "text/plain": [
              "  0%|          | 0/982 [00:00<?, ?it/s]"
            ]
          },
          "metadata": {}
        },
        {
          "output_type": "display_data",
          "data": {
            "image/png": "[encoded data removed]",
            "text/plain": [
              "<Figure size 720x720 with 1 Axes>"
            ]
          },
          "metadata": {
            "needs_background": "light"
          }
        },
        {
          "output_type": "display_data",
          "data": {
            "image/png": "[encoded data removed]",
            "text/plain": [
              "<Figure size 720x720 with 4 Axes>"
            ]
          },
          "metadata": {
            "needs_background": "light"
          }
        },
        {
          "output_type": "stream",
          "name": "stdout",
          "text": [
            "\n",
            "\n",
            "\n",
            "Which analysis would you like to perform?\n",
            "\n",
            "Univariate Analysis:\n",
            "1.Analyse Votes\n",
            "2.Analyse Number of Answers\n",
            "3.Analyse Views\n",
            "4.Are the tags mentioned in questions similar to each other?\n",
            "\n",
            "Bivariate Analysis:\n",
            "5.Which tags are popularly used by Stackoverflow community in this domain?\n",
            "6.How many tags are present per question?\n",
            "7.Are the number of views of question statistically related to number of answers?\n",
            "8.Are the tags related to Views?\n",
            "\n",
            "Multivariate analysis:\n",
            "9.Analyse Votes, Number of Answers, Views\n",
            "\n",
            "10.Exit\n",
            "9\n",
            "\n",
            "Multivariate analysis: Analyse Votes, Number of Answers, Views\n",
            "\n",
            "Pair plot: \n"
          ]
        },
        {
          "output_type": "display_data",
          "data": {
            "image/png": "[encoded data removed]",
            "text/plain": [
              "<Figure size 540x540 with 12 Axes>"
            ]
          },
          "metadata": {
            "needs_background": "light"
          }
        },
        {
          "output_type": "stream",
          "name": "stdout",
          "text": [
            "\n",
            "Correlation plot: \n"
          ]
        },
        {
          "output_type": "display_data",
          "data": {
            "image/png": "[encoded data removed]",
            "text/plain": [
              "<Figure size 720x720 with 2 Axes>"
            ]
          },
          "metadata": {
            "needs_background": "light"
          }
        },
        {
          "name": "stdout",
          "output_type": "stream",
          "text": [
            "\n",
            "\n",
            "\n",
            "Which analysis would you like to perform?\n",
            "\n",
            "Univariate Analysis:\n",
            "1.Analyse Votes\n",
            "2.Analyse Number of Answers\n",
            "3.Analyse Views\n",
            "4.Are the tags mentioned in questions similar to each other?\n",
            "\n",
            "Bivariate Analysis:\n",
            "5.Which tags are popularly used by Stackoverflow community in this domain?\n",
            "6.How many tags are present per question?\n",
            "7.Are the number of views of question statistically related to number of answers?\n",
            "8.Are the tags related to Views?\n",
            "\n",
            "Multivariate analysis:\n",
            "9.Analyse Votes, Number of Answers, Views\n",
            "\n",
            "10.Exit\n",
            "10\n"
          ]
        }
      ]
    }
  ]
}